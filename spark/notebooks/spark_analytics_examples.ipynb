{
 "cells": [
  {
   "cell_type": "code",
   "execution_count": 1,
   "id": "83e0873a",
   "metadata": {},
   "outputs": [
    {
     "ename": "ModuleNotFoundError",
     "evalue": "No module named 'pyspark'",
     "output_type": "error",
     "traceback": [
      "\u001b[31m---------------------------------------------------------------------------\u001b[39m",
      "\u001b[31mModuleNotFoundError\u001b[39m                       Traceback (most recent call last)",
      "\u001b[36mCell\u001b[39m\u001b[36m \u001b[39m\u001b[32mIn[1]\u001b[39m\u001b[32m, line 1\u001b[39m\n\u001b[32m----> \u001b[39m\u001b[32m1\u001b[39m \u001b[38;5;28;01mfrom\u001b[39;00m\u001b[38;5;250m \u001b[39m\u001b[34;01mpyspark\u001b[39;00m\u001b[34;01m.\u001b[39;00m\u001b[34;01msql\u001b[39;00m\u001b[38;5;250m \u001b[39m\u001b[38;5;28;01mimport\u001b[39;00m SparkSession\n\u001b[32m      3\u001b[39m spark = SparkSession.builder \\\n\u001b[32m      4\u001b[39m     .appName(\u001b[33m\"\u001b[39m\u001b[33mcheck\u001b[39m\u001b[33m\"\u001b[39m) \\\n\u001b[32m      5\u001b[39m     .master(\u001b[33m\"\u001b[39m\u001b[33mspark://localhost:7077\u001b[39m\u001b[33m\"\u001b[39m) \\\n\u001b[32m      6\u001b[39m     .config(\u001b[33m\"\u001b[39m\u001b[33mspark.jars\u001b[39m\u001b[33m\"\u001b[39m, \u001b[33m\"\u001b[39m\u001b[33m./jars/postgresql-42.7.5.jar\u001b[39m\u001b[33m\"\u001b[39m) \\\n\u001b[32m      7\u001b[39m     .getOrCreate()\n\u001b[32m      9\u001b[39m df = spark.read.jdbc(\n\u001b[32m     10\u001b[39m     url=\u001b[33m\"\u001b[39m\u001b[33mjdbc:postgresql://localhost:5432/demo\u001b[39m\u001b[33m\"\u001b[39m,\n\u001b[32m     11\u001b[39m     table=\u001b[33m\"\u001b[39m\u001b[33mproducts\u001b[39m\u001b[33m\"\u001b[39m,\n\u001b[32m   (...)\u001b[39m\u001b[32m     16\u001b[39m     }\n\u001b[32m     17\u001b[39m )\n",
      "\u001b[31mModuleNotFoundError\u001b[39m: No module named 'pyspark'"
     ]
    }
   ],
   "source": [
    "from pyspark.sql import SparkSession\n",
    "\n",
    "spark = SparkSession.builder \\\n",
    "    .appName(\"check\") \\\n",
    "    .master(\"spark://localhost:7077\") \\\n",
    "    .config(\"spark.jars\", \"./jars/postgresql-42.7.5.jar\") \\\n",
    "    .getOrCreate()\n",
    "\n",
    "df = spark.read.jdbc(\n",
    "    url=\"jdbc:postgresql://localhost:5432/demo\",\n",
    "    table=\"products\",\n",
    "    properties={\n",
    "        \"user\": \"postgres\",\n",
    "        \"password\": \"postgres\",\n",
    "        \"driver\": \"org.postgresql.Driver\"\n",
    "    }\n",
    ")\n",
    "\n",
    "df.show()"
   ]
  }
 ],
 "metadata": {
  "kernelspec": {
   "display_name": "Python 3",
   "language": "python",
   "name": "python3"
  },
  "language_info": {
   "codemirror_mode": {
    "name": "ipython",
    "version": 3
   },
   "file_extension": ".py",
   "mimetype": "text/x-python",
   "name": "python",
   "nbconvert_exporter": "python",
   "pygments_lexer": "ipython3",
   "version": "3.13.3"
  }
 },
 "nbformat": 4,
 "nbformat_minor": 5
}
