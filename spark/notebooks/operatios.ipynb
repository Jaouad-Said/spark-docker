{
 "cells": [
  {
   "cell_type": "code",
   "execution_count": 1,
   "id": "944df62d-3d40-40c2-821b-40fce1485e78",
   "metadata": {},
   "outputs": [],
   "source": [
    "from pyspark.sql import SparkSession\n",
    "\n",
    "spark = SparkSession.builder.appName(\"check\").getOrCreate()"
   ]
  },
  {
   "cell_type": "code",
   "execution_count": 2,
   "id": "e5dc0ec2-ea1d-4200-a61c-de1ee5e69ed2",
   "metadata": {},
   "outputs": [
    {
     "name": "stdout",
     "output_type": "stream",
     "text": [
      "+---+------------------+--------+------+--------------+\n",
      "| id|              name|   brand| price|stock_quantity|\n",
      "+---+------------------+--------+------+--------------+\n",
      "|  1|      Seem Usually|   Wayne|227.14|            33|\n",
      "|  2|   Coach Something|   Wayne|345.71|           275|\n",
      "|  3|    President Talk| Initech| 37.17|           181|\n",
      "|  4| Successful Remain|   Wayne|258.89|           105|\n",
      "|  5|    Writer Officer| Soylent| 86.23|           168|\n",
      "|  6|Situation Response| Initech|232.29|           194|\n",
      "|  7|     Nothing Study| Soylent| 39.18|           240|\n",
      "|  8|         Admit Yes| Soylent|352.39|           135|\n",
      "|  9|    Industry Exist| Soylent|340.67|           158|\n",
      "| 10|      Hair Serious|   Stark|357.39|           160|\n",
      "| 11|        One Assume|Umbrella|365.46|           188|\n",
      "| 12|        Why Father| Soylent|277.08|           229|\n",
      "| 13|      Believe Pick|   Wayne|194.66|           101|\n",
      "| 14|     Probably Hear|   Wayne|473.63|           206|\n",
      "| 15|      Modern Money| Initech|176.39|            61|\n",
      "| 16|       Camera Make|Umbrella| 68.36|           179|\n",
      "| 17|           Cut Low|    Acme|351.57|           132|\n",
      "| 18|  Player Determine|  Globex|321.29|           197|\n",
      "| 19|       Outside Sea|   Stark|420.40|           188|\n",
      "| 20|      Notice Image|  Globex| 82.96|           121|\n",
      "+---+------------------+--------+------+--------------+\n",
      "only showing top 20 rows\n",
      "\n"
     ]
    }
   ],
   "source": [
    "df = spark.read.jdbc(\n",
    "    url=\"jdbc:postgresql://postgres:5432/demo\",\n",
    "    table=\"products\",\n",
    "    properties={\n",
    "        \"user\": \"postgres\",\n",
    "        \"password\": \"postgres\",\n",
    "        \"driver\": \"org.postgresql.Driver\"\n",
    "    }\n",
    ")\n",
    "\n",
    "df.select(\"id\", \"name\", \"brand\", \"price\", \"stock_quantity\").show()"
   ]
  },
  {
   "cell_type": "code",
   "execution_count": 10,
   "id": "acc3cd8f-ea85-4d6a-8aa8-f6574c93b515",
   "metadata": {},
   "outputs": [
    {
     "name": "stdout",
     "output_type": "stream",
     "text": [
      "+---+------------------+--------+------+--------------+\n",
      "| id|              name|   brand| price|stock_quantity|\n",
      "+---+------------------+--------+------+--------------+\n",
      "|  1|      Seem Usually|   Wayne|227.14|            33|\n",
      "|  2|   Coach Something|   Wayne|345.71|           275|\n",
      "|  4| Successful Remain|   Wayne|258.89|           105|\n",
      "|  6|Situation Response| Initech|232.29|           194|\n",
      "|  8|         Admit Yes| Soylent|352.39|           135|\n",
      "|  9|    Industry Exist| Soylent|340.67|           158|\n",
      "| 10|      Hair Serious|   Stark|357.39|           160|\n",
      "| 11|        One Assume|Umbrella|365.46|           188|\n",
      "| 12|        Why Father| Soylent|277.08|           229|\n",
      "| 13|      Believe Pick|   Wayne|194.66|           101|\n",
      "| 14|     Probably Hear|   Wayne|473.63|           206|\n",
      "| 15|      Modern Money| Initech|176.39|            61|\n",
      "| 17|           Cut Low|    Acme|351.57|           132|\n",
      "| 18|  Player Determine|  Globex|321.29|           197|\n",
      "| 19|       Outside Sea|   Stark|420.40|           188|\n",
      "| 21|         Mr Nearly|   Stark|499.48|           162|\n",
      "| 23|      Computer Who| Initech|250.78|            69|\n",
      "| 24|    Beautiful Stop|Umbrella|349.99|           158|\n",
      "| 25|Increase Agreement|Umbrella|343.69|           177|\n",
      "| 26|  Information Main|   Stark|359.24|           164|\n",
      "+---+------------------+--------+------+--------------+\n",
      "only showing top 20 rows\n",
      "\n"
     ]
    }
   ],
   "source": [
    "df.filter(df.price > 100).select(\"id\", \"name\", \"brand\", \"price\", \"stock_quantity\").show()"
   ]
  },
  {
   "cell_type": "code",
   "execution_count": 11,
   "id": "13905c01-2909-48a0-9eb5-78ab8476b6ef",
   "metadata": {},
   "outputs": [
    {
     "name": "stdout",
     "output_type": "stream",
     "text": [
      "+---+----------------+--------+------+--------------+\n",
      "| id|            name|   brand| price|stock_quantity|\n",
      "+---+----------------+--------+------+--------------+\n",
      "| 75|        Then Art|Umbrella| 88.76|             6|\n",
      "| 78|       Act House|Umbrella|397.80|             4|\n",
      "|102|       Short Run|  Globex| 19.45|             6|\n",
      "|124|     Who Respond|   Wayne|418.12|             7|\n",
      "|133|     Degree Good| Soylent|251.26|             4|\n",
      "|135|Program Maintain|   Stark|404.54|             8|\n",
      "|175|        Pull Add| Soylent|269.60|             3|\n",
      "|186|      Cell Front| Initech|404.19|             3|\n",
      "+---+----------------+--------+------+--------------+\n",
      "\n"
     ]
    }
   ],
   "source": [
    "df.filter(df.stock_quantity < 10).select(\"id\", \"name\", \"brand\", \"price\", \"stock_quantity\").show()"
   ]
  },
  {
   "cell_type": "code",
   "execution_count": 12,
   "id": "10a53e4e-c40e-42ce-942a-51b34527ff47",
   "metadata": {},
   "outputs": [
    {
     "name": "stdout",
     "output_type": "stream",
     "text": [
      "+--------+-----+\n",
      "|   brand|count|\n",
      "+--------+-----+\n",
      "| Soylent|   33|\n",
      "|Umbrella|   33|\n",
      "|    Acme|   22|\n",
      "|  Globex|   25|\n",
      "|   Wayne|   24|\n",
      "| Initech|   34|\n",
      "|   Stark|   29|\n",
      "+--------+-----+\n",
      "\n"
     ]
    }
   ],
   "source": [
    "df.groupBy(\"brand\").count().show()"
   ]
  },
  {
   "cell_type": "code",
   "execution_count": 13,
   "id": "f4e06070-8281-433d-94d5-c6c8965626ab",
   "metadata": {},
   "outputs": [
    {
     "name": "stdout",
     "output_type": "stream",
     "text": [
      "+--------+----------+\n",
      "|   brand|avg(price)|\n",
      "+--------+----------+\n",
      "| Soylent|238.703333|\n",
      "|Umbrella|257.810303|\n",
      "|    Acme|229.787727|\n",
      "|  Globex|296.610800|\n",
      "|   Wayne|247.737500|\n",
      "| Initech|219.357941|\n",
      "|   Stark|283.595517|\n",
      "+--------+----------+\n",
      "\n"
     ]
    }
   ],
   "source": [
    "df.groupBy(\"brand\").agg({\"price\": \"avg\"}).show()"
   ]
  },
  {
   "cell_type": "code",
   "execution_count": 14,
   "id": "81a3482a-62b7-465d-8c52-d09725fabdf3",
   "metadata": {},
   "outputs": [
    {
     "name": "stdout",
     "output_type": "stream",
     "text": [
      "+---+---------------+--------+------+--------------+\n",
      "| id|           name|   brand| price|stock_quantity|\n",
      "+---+---------------+--------+------+--------------+\n",
      "| 21|      Mr Nearly|   Stark|499.48|           162|\n",
      "| 53|       Move Old|    Acme|495.58|            60|\n",
      "|119| Usually Agency|Umbrella|492.90|           185|\n",
      "|193|    Arrive Food|   Wayne|485.92|            60|\n",
      "| 63|      Just Ever|Umbrella|485.29|           182|\n",
      "|123|Recognize Could|  Globex|483.66|           219|\n",
      "|187| Investment May|   Stark|482.81|           284|\n",
      "|130|  Without Again|  Globex|482.56|           253|\n",
      "|163| Blood Democrat|  Globex|482.16|           273|\n",
      "|168|Family Suddenly|  Globex|473.68|           122|\n",
      "+---+---------------+--------+------+--------------+\n",
      "only showing top 10 rows\n",
      "\n"
     ]
    }
   ],
   "source": [
    "df.orderBy(df.price.desc()).select(\"id\", \"name\", \"brand\", \"price\", \"stock_quantity\").show(10)"
   ]
  },
  {
   "cell_type": "code",
   "execution_count": 15,
   "id": "c4249de2-9f6d-4627-94af-808572bbac79",
   "metadata": {},
   "outputs": [
    {
     "name": "stdout",
     "output_type": "stream",
     "text": [
      "+---+------------------+--------+------+--------------+---------------+\n",
      "| id|              name|   brand| price|stock_quantity|inventory_value|\n",
      "+---+------------------+--------+------+--------------+---------------+\n",
      "|  1|      Seem Usually|   Wayne|227.14|            33|        7495.62|\n",
      "|  2|   Coach Something|   Wayne|345.71|           275|       95070.25|\n",
      "|  3|    President Talk| Initech| 37.17|           181|        6727.77|\n",
      "|  4| Successful Remain|   Wayne|258.89|           105|       27183.45|\n",
      "|  5|    Writer Officer| Soylent| 86.23|           168|       14486.64|\n",
      "|  6|Situation Response| Initech|232.29|           194|       45064.26|\n",
      "|  7|     Nothing Study| Soylent| 39.18|           240|        9403.20|\n",
      "|  8|         Admit Yes| Soylent|352.39|           135|       47572.65|\n",
      "|  9|    Industry Exist| Soylent|340.67|           158|       53825.86|\n",
      "| 10|      Hair Serious|   Stark|357.39|           160|       57182.40|\n",
      "| 11|        One Assume|Umbrella|365.46|           188|       68706.48|\n",
      "| 12|        Why Father| Soylent|277.08|           229|       63451.32|\n",
      "| 13|      Believe Pick|   Wayne|194.66|           101|       19660.66|\n",
      "| 14|     Probably Hear|   Wayne|473.63|           206|       97567.78|\n",
      "| 15|      Modern Money| Initech|176.39|            61|       10759.79|\n",
      "| 16|       Camera Make|Umbrella| 68.36|           179|       12236.44|\n",
      "| 17|           Cut Low|    Acme|351.57|           132|       46407.24|\n",
      "| 18|  Player Determine|  Globex|321.29|           197|       63294.13|\n",
      "| 19|       Outside Sea|   Stark|420.40|           188|       79035.20|\n",
      "| 20|      Notice Image|  Globex| 82.96|           121|       10038.16|\n",
      "+---+------------------+--------+------+--------------+---------------+\n",
      "only showing top 20 rows\n",
      "\n"
     ]
    }
   ],
   "source": [
    "from pyspark.sql.functions import col\n",
    "\n",
    "df.withColumn(\"inventory_value\", col(\"price\") * col(\"stock_quantity\")) \\\n",
    "  .select(\"id\", \"name\", \"brand\", \"price\", \"stock_quantity\", \"inventory_value\").show()"
   ]
  },
  {
   "cell_type": "code",
   "execution_count": 16,
   "id": "63236fc5-b9c3-4ce5-a0bc-ced0f006fb50",
   "metadata": {},
   "outputs": [],
   "source": [
    "expensive = df.filter(df.price > 400)\n",
    "expensive.select(\"id\", \"name\", \"brand\", \"price\", \"stock_quantity\").write.jdbc(\n",
    "    url=\"jdbc:postgresql://postgres:5432/demo\",\n",
    "    table=\"expensive_products\",\n",
    "    mode=\"overwrite\",\n",
    "    properties={\n",
    "        \"user\": \"postgres\",\n",
    "        \"password\": \"postgres\",\n",
    "        \"driver\": \"org.postgresql.Driver\"\n",
    "    }\n",
    ")"
   ]
  },
  {
   "cell_type": "code",
   "execution_count": 17,
   "id": "b6741558-d676-4ee3-8b97-4d248375dee8",
   "metadata": {},
   "outputs": [
    {
     "name": "stdout",
     "output_type": "stream",
     "text": [
      "+---+-----------------+--------+------+--------------+\n",
      "| id|             name|   brand| price|stock_quantity|\n",
      "+---+-----------------+--------+------+--------------+\n",
      "| 14|    Probably Hear|   Wayne|473.63|           206|\n",
      "| 19|      Outside Sea|   Stark|420.40|           188|\n",
      "| 21|        Mr Nearly|   Stark|499.48|           162|\n",
      "| 29|      Reason Help| Soylent|406.78|           157|\n",
      "| 30|Science Challenge|Umbrella|458.90|           199|\n",
      "| 43|     Several Easy| Initech|426.52|            39|\n",
      "| 49|       Either Bad|  Globex|438.90|            49|\n",
      "| 50|      Wrong Break|    Acme|411.56|           119|\n",
      "| 51|       Like Issue|   Stark|410.33|            71|\n",
      "| 53|         Move Old|    Acme|495.58|            60|\n",
      "| 63|        Just Ever|Umbrella|485.29|           182|\n",
      "| 70| Direction Reduce|   Stark|403.42|           205|\n",
      "| 74|      Source Just| Soylent|436.29|           147|\n",
      "| 81|        Full From| Initech|409.68|           193|\n",
      "| 87| Authority Common| Soylent|457.24|           210|\n",
      "| 90|    People Animal| Soylent|408.47|            86|\n",
      "| 93|       Price Give| Soylent|429.97|           150|\n",
      "| 94|       Teach Help| Initech|411.19|           196|\n",
      "| 95| College Resource|   Stark|418.07|            70|\n",
      "|103|      Race Option|Umbrella|441.21|           197|\n",
      "+---+-----------------+--------+------+--------------+\n",
      "only showing top 20 rows\n",
      "\n"
     ]
    }
   ],
   "source": [
    "expensive_products = spark.read.jdbc(\n",
    "    url=\"jdbc:postgresql://postgres:5432/demo\",\n",
    "    table=\"expensive_products\",\n",
    "    properties={\n",
    "        \"user\": \"postgres\",\n",
    "        \"password\": \"postgres\",\n",
    "        \"driver\": \"org.postgresql.Driver\"\n",
    "    }\n",
    ")\n",
    "expensive_products.show()\n"
   ]
  },
  {
   "cell_type": "code",
   "execution_count": 18,
   "id": "300d7aeb-d37b-4c3d-a16a-272a74a7a12f",
   "metadata": {},
   "outputs": [
    {
     "name": "stdout",
     "output_type": "stream",
     "text": [
      "+---+------------------+--------+------+--------------+\n",
      "| id|              name|   brand| price|stock_quantity|\n",
      "+---+------------------+--------+------+--------------+\n",
      "|  1|      Seem Usually|   Wayne|227.14|            33|\n",
      "|  2|   Coach Something|   Wayne|345.71|           275|\n",
      "|  4| Successful Remain|   Wayne|258.89|           105|\n",
      "|  6|Situation Response| Initech|232.29|           194|\n",
      "|  8|         Admit Yes| Soylent|352.39|           135|\n",
      "|  9|    Industry Exist| Soylent|340.67|           158|\n",
      "| 10|      Hair Serious|   Stark|357.39|           160|\n",
      "| 11|        One Assume|Umbrella|365.46|           188|\n",
      "| 12|        Why Father| Soylent|277.08|           229|\n",
      "| 13|      Believe Pick|   Wayne|194.66|           101|\n",
      "| 14|     Probably Hear|   Wayne|473.63|           206|\n",
      "| 15|      Modern Money| Initech|176.39|            61|\n",
      "| 17|           Cut Low|    Acme|351.57|           132|\n",
      "| 18|  Player Determine|  Globex|321.29|           197|\n",
      "| 19|       Outside Sea|   Stark|420.40|           188|\n",
      "| 21|         Mr Nearly|   Stark|499.48|           162|\n",
      "| 23|      Computer Who| Initech|250.78|            69|\n",
      "| 24|    Beautiful Stop|Umbrella|349.99|           158|\n",
      "| 25|Increase Agreement|Umbrella|343.69|           177|\n",
      "| 26|  Information Main|   Stark|359.24|           164|\n",
      "+---+------------------+--------+------+--------------+\n",
      "only showing top 20 rows\n",
      "\n"
     ]
    }
   ],
   "source": [
    "df.createOrReplaceTempView(\"products\")\n",
    "result = spark.sql(\"\"\"\n",
    "    SELECT id, name, brand, price, stock_quantity\n",
    "    FROM products\n",
    "    WHERE price > 100\n",
    "\"\"\")\n",
    "result.show()\n"
   ]
  },
  {
   "cell_type": "code",
   "execution_count": 19,
   "id": "ce2a7af6-958c-496a-adc2-ca6613839741",
   "metadata": {},
   "outputs": [
    {
     "name": "stdout",
     "output_type": "stream",
     "text": [
      "+---+------------------+--------+------+--------------+-------------+\n",
      "| id|              name|   brand| price|stock_quantity|category_name|\n",
      "+---+------------------+--------+------+--------------+-------------+\n",
      "| 11|        One Assume|Umbrella|365.46|           188|  Electronics|\n",
      "| 17|           Cut Low|    Acme|351.57|           132|  Electronics|\n",
      "| 28|          Issue Be|    Acme|314.30|           248|  Electronics|\n",
      "| 32|       Team Couple| Soylent|273.63|            98|  Electronics|\n",
      "| 34|   Pattern Popular|    Acme|245.54|           232|  Electronics|\n",
      "| 48|       Reflect Ago| Soylent| 29.36|           253|  Electronics|\n",
      "| 49|        Either Bad|  Globex|438.90|            49|  Electronics|\n",
      "| 57|      Star Quickly|    Acme| 32.02|           272|  Electronics|\n",
      "| 64|      Girl Because|Umbrella|177.85|           284|  Electronics|\n",
      "| 65|        Stock Word| Soylent| 51.61|           209|  Electronics|\n",
      "| 67|       Cold Common| Initech| 34.95|            61|  Electronics|\n",
      "| 75|          Then Art|Umbrella| 88.76|             6|  Electronics|\n",
      "| 76|      Subject Keep|   Wayne|397.36|           238|  Electronics|\n",
      "| 78|         Act House|Umbrella|397.80|             4|  Electronics|\n",
      "| 85|Analysis Sometimes|  Globex|341.07|           227|  Electronics|\n",
      "| 90|     People Animal| Soylent|408.47|            86|  Electronics|\n",
      "| 92|     Wide Magazine|    Acme|104.61|            12|  Electronics|\n",
      "| 95|  College Resource|   Stark|418.07|            70|  Electronics|\n",
      "|102|         Short Run|  Globex| 19.45|             6|  Electronics|\n",
      "|103|       Race Option|Umbrella|441.21|           197|  Electronics|\n",
      "+---+------------------+--------+------+--------------+-------------+\n",
      "only showing top 20 rows\n",
      "\n"
     ]
    }
   ],
   "source": [
    "categories = spark.read.jdbc(\n",
    "    url=\"jdbc:postgresql://postgres:5432/demo\",\n",
    "    table=\"categories\",\n",
    "    properties={\n",
    "        \"user\": \"postgres\",\n",
    "        \"password\": \"postgres\",\n",
    "        \"driver\": \"org.postgresql.Driver\"\n",
    "    }\n",
    ")\n",
    "\n",
    "joined = df.join(categories, df.category_id == categories.id, \"inner\")\n",
    "\n",
    "joined.select(\n",
    "    df.id,\n",
    "    df.name,\n",
    "    df.brand,\n",
    "    df.price,\n",
    "    df.stock_quantity,\n",
    "    categories.name.alias(\"category_name\")\n",
    ").show()\n"
   ]
  },
  {
   "cell_type": "code",
   "execution_count": 20,
   "id": "3dc797c4-825c-4111-8432-1822acf4f475",
   "metadata": {},
   "outputs": [],
   "source": [
    "df.select(\"id\", \"name\", \"brand\", \"price\", \"stock_quantity\") \\\n",
    "  .write.csv(\"/home/jovyan/output/products_export.csv\", header=True, mode=\"overwrite\")"
   ]
  },
  {
   "cell_type": "code",
   "execution_count": null,
   "id": "1965847e-7566-4e04-abe3-ca89fc6fe412",
   "metadata": {},
   "outputs": [
    {
     "name": "stdout",
     "output_type": "stream",
     "text": [
      "+---+------------------+--------+------+--------------+\n",
      "| id|              name|   brand| price|stock_quantity|\n",
      "+---+------------------+--------+------+--------------+\n",
      "|  1|      Seem Usually|   Wayne|227.14|            33|\n",
      "|  2|   Coach Something|   Wayne|345.71|           275|\n",
      "|  3|    President Talk| Initech| 37.17|           181|\n",
      "|  4| Successful Remain|   Wayne|258.89|           105|\n",
      "|  5|    Writer Officer| Soylent| 86.23|           168|\n",
      "|  6|Situation Response| Initech|232.29|           194|\n",
      "|  7|     Nothing Study| Soylent| 39.18|           240|\n",
      "|  8|         Admit Yes| Soylent|352.39|           135|\n",
      "|  9|    Industry Exist| Soylent|340.67|           158|\n",
      "| 10|      Hair Serious|   Stark|357.39|           160|\n",
      "| 11|        One Assume|Umbrella|365.46|           188|\n",
      "| 12|        Why Father| Soylent|277.08|           229|\n",
      "| 13|      Believe Pick|   Wayne|194.66|           101|\n",
      "| 14|     Probably Hear|   Wayne|473.63|           206|\n",
      "| 15|      Modern Money| Initech|176.39|            61|\n",
      "| 16|       Camera Make|Umbrella| 68.36|           179|\n",
      "| 17|           Cut Low|    Acme|351.57|           132|\n",
      "| 18|  Player Determine|  Globex|321.29|           197|\n",
      "| 19|       Outside Sea|   Stark|420.40|           188|\n",
      "| 20|      Notice Image|  Globex| 82.96|           121|\n",
      "+---+------------------+--------+------+--------------+\n",
      "only showing top 20 rows\n",
      "\n"
     ]
    }
   ],
   "source": [
    "cleaned = df.dropna(subset=[\"id\", \"name\", \"brand\", \"price\", \"stock_quantity\"])\n",
    "cleaned.select(\"id\", \"name\", \"brand\", \"price\", \"stock_quantity\").show()\n",
    "\n",
    "import pandas as pd\n",
    "import matplotlib.pyplot as plt\n",
    "\n",
    "brand_counts = df.groupBy(\"brand\").count().orderBy(\"count\", ascending=False).toPandas()\n",
    "\n",
    "plt.figure(figsize=(10,6))\n",
    "plt.bar(brand_counts['brand'], brand_counts['count'])\n",
    "plt.xlabel(\"Brand\")\n",
    "plt.ylabel(\"Number of Products\")\n",
    "plt.title(\"Number of Products per Brand\")\n",
    "plt.xticks(rotation=45)\n",
    "plt.tight_layout()\n",
    "plt.show()\n"
   ]
  },
  {
   "cell_type": "code",
   "execution_count": null,
   "id": "b0fe7276-9ab4-481a-8eab-f0b20a50c609",
   "metadata": {},
   "outputs": [
    {
     "data": {
      "image/png": "[encoded data removed]",
      "text/plain": [
       "<Figure size 1000x600 with 1 Axes>"
      ]
     },
     "metadata": {},
     "output_type": "display_data"
    }
   ],
   "source": []
  },
  {
   "cell_type": "code",
   "execution_count": 37,
   "id": "ca4b7d5e-7791-4a06-8b96-48cf67021f0f",
   "metadata": {},
   "outputs": [],
   "source": [
    "from pyspark.sql import SparkSession\n",
    "\n",
    "spark = SparkSession.builder \\\n",
    "    .appName(\"products_job\") \\\n",
    "    .config(\"spark.hadoop.ipc.maximum.data.length\", 536870912) \\\n",
    "    .getOrCreate()\n"
   ]
  },
  {
   "cell_type": "code",
   "execution_count": 42,
   "id": "93c7868c-d919-40dd-93df-9ed1fb48a59f",
   "metadata": {},
   "outputs": [],
   "source": [
    "df.select(\"id\", \"name\", \"brand\", \"price\", \"stock_quantity\") \\\n",
    "  .write.csv(\"hdfs://hadoop-namenode:8020/user/pros/products_export\", header=True, mode=\"overwrite\")"
   ]
  },
  {
   "cell_type": "code",
   "execution_count": null,
   "id": "1bbc6c07-edfd-48ae-98e4-477624d07995",
   "metadata": {},
   "outputs": [],
   "source": []
  }
 ],
 "metadata": {
  "kernelspec": {
   "display_name": "Python 3 (ipykernel)",
   "language": "python",
   "name": "python3"
  },
  "language_info": {
   "codemirror_mode": {
    "name": "ipython",
    "version": 3
   },
   "file_extension": ".py",
   "mimetype": "text/x-python",
   "name": "python",
   "nbconvert_exporter": "python",
   "pygments_lexer": "ipython3",
   "version": "3.11.6"
  }
 },
 "nbformat": 4,
 "nbformat_minor": 5
}
